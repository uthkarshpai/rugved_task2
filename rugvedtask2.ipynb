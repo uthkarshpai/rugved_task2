{
 "cells": [
  {
   "cell_type": "code",
   "execution_count": null,
   "metadata": {},
   "outputs": [],
   "source": [
    "import pandas as pd\n",
    "import numpy as np\n",
    "import matplotlib.pyplot as plt\n",
    "\n",
    "matches = pd.read_csv(\"matches.csv\")\n",
    "deliveries=pd.read_csv('deliveries.csv')\n",
    "matches = matches.replace(\"Rising Pune Supergiant\", \"Rising Pune Supergiants\")\n"
   ]
  },
  {
   "cell_type": "code",
   "execution_count": null,
   "metadata": {},
   "outputs": [],
   "source": [
    "#q1\n",
    "print(len(matches[matches[\"season\"]==2008]))"
   ]
  },
  {
   "cell_type": "code",
   "execution_count": null,
   "metadata": {},
   "outputs": [],
   "source": [
    "#q2\n",
    "print(f\"{matches[\"city\"].value_counts().idxmax()}-{matches[\"city\"].value_counts().max()}\")\n",
    "print(f\"{matches[\"city\"].value_counts().idxmin()}-{matches[\"city\"].value_counts().min()}\")"
   ]
  },
  {
   "cell_type": "code",
   "execution_count": null,
   "metadata": {},
   "outputs": [],
   "source": [
    "#q3\n",
    "print(matches.value_counts(\"city\",ascending=False).to_string(header= False ,name=False))"
   ]
  },
  {
   "cell_type": "code",
   "execution_count": null,
   "metadata": {},
   "outputs": [],
   "source": [
    "# Q4\n",
    "\n",
    "print(f\"{matches.value_counts(\"toss_winner\").idxmax()}-{matches.value_counts(\"toss_winner\").max()}\")\n",
    "print(f\"{matches.value_counts(\"toss_winner\").idxmin()}-{matches.value_counts(\"toss_winner\").min()}\")"
   ]
  },
  {
   "cell_type": "code",
   "execution_count": null,
   "metadata": {},
   "outputs": [],
   "source": [
    "# Q5\n",
    "\n",
    "print(matches.groupby(\"toss_winner\")[\"toss_decision\"].value_counts().to_string(name=False))"
   ]
  },
  {
   "cell_type": "code",
   "execution_count": null,
   "metadata": {},
   "outputs": [],
   "source": [
    "# Q6\n",
    "\n",
    "print(matches[\"result\"].value_counts().to_string(header=False, name=False))"
   ]
  },
  {
   "cell_type": "code",
   "execution_count": null,
   "metadata": {},
   "outputs": [],
   "source": [
    "# Q7   \n",
    "\n",
    "print(matches.loc[matches[\"result\"] == \"tie\", [\"team1\",\"team2\"]].to_string(index = False))"
   ]
  },
  {
   "cell_type": "code",
   "execution_count": null,
   "metadata": {},
   "outputs": [],
   "source": [
    "# Q8\n",
    "\n",
    "print(matches[\"winner\"][matches[\"win_by_runs\"].idxmax()],\"by\",matches[\"win_by_runs\"].max(),\"runs\")"
   ]
  },
  {
   "cell_type": "code",
   "execution_count": null,
   "metadata": {},
   "outputs": [],
   "source": [
    "# Q9\n",
    "\n",
    "print(matches[matches[\"win_by_runs\"] == matches[matches[\"win_by_runs\"] != 0][\"win_by_runs\"].min()][\"winner\"].unique())"
   ]
  },
  {
   "cell_type": "code",
   "execution_count": null,
   "metadata": {},
   "outputs": [],
   "source": [
    "# Q10\n",
    " \n",
    "print(matches[\"player_of_match\"].value_counts()[lambda x:x>=3].to_string(name = False))"
   ]
  },
  {
   "cell_type": "code",
   "execution_count": null,
   "metadata": {},
   "outputs": [],
   "source": [
    "# Q11\n",
    "\n",
    "print(matches[\"player_of_match\"].value_counts().idxmax(), matches[\"player_of_match\"].value_counts().max())"
   ]
  },
  {
   "cell_type": "code",
   "execution_count": null,
   "metadata": {},
   "outputs": [],
   "source": [
    "# Q12\n",
    "\n",
    "print(matches[\"venue\"][matches[\"win_by_runs\"].idxmax()])"
   ]
  },
  {
   "cell_type": "code",
   "execution_count": null,
   "metadata": {},
   "outputs": [],
   "source": [
    "# Q13 \n",
    "\n",
    "print(matches[matches[\"win_by_runs\"] == matches[matches[\"win_by_runs\"] != 0][\"win_by_runs\"].min()][\"venue\"].unique())"
   ]
  },
  {
   "cell_type": "code",
   "execution_count": null,
   "metadata": {},
   "outputs": [],
   "source": [
    "# Q14\n",
    "\n",
    "print(pd.concat([matches[\"umpire1\"],matches[\"umpire2\"],matches[\"umpire3\"]]).value_counts().idxmax())"
   ]
  },
  {
   "cell_type": "code",
   "execution_count": null,
   "metadata": {},
   "outputs": [],
   "source": [
    "# Q15\n",
    "print(matches[\"season\"].value_counts().sort_index().to_string(name=False, header=False))"
   ]
  },
  {
   "cell_type": "code",
   "execution_count": null,
   "metadata": {},
   "outputs": [],
   "source": [
    "# Q16\n",
    "\n",
    "deliveries1 = deliveries.rename(columns={\"match_id\":\"id\"})\n",
    "merge_df = deliveries1.merge(matches, on=\"id\")\n",
    "\n",
    "for year in sorted(set(matches[\"season\"])):\n",
    "    merge_df_year = merge_df[merge_df[\"season\"] == year]\n",
    "    print(f\"{year} - {merge_df_year[\"total_runs\"].sum()}\")"
   ]
  },
  {
   "cell_type": "code",
   "execution_count": null,
   "metadata": {},
   "outputs": [],
   "source": [
    "# Q17\n",
    "\n",
    "print(matches[\"toss_winner\"].value_counts().to_string(name = False)"
   ]
  },
  {
   "cell_type": "code",
   "execution_count": null,
   "metadata": {},
   "outputs": [],
   "source": [
    "# Q18\n",
    "\n",
    "match_bat = matches[matches[\"toss_decision\"] == \"bat\"][\"toss_winner\"].value_counts()\n",
    "match_field = matches[matches[\"toss_decision\"] == \"field\"][\"toss_winner\"].value_counts()\n",
    "a = np.arange(len(set(matches[\"team1\"])))\n",
    "z = 0.4\n",
    "\n",
    "plt.bar(a-(z/2), match_bat.values, z, color = \"r\")\n",
    "plt.bar(a+(z/2), match_field.values, z, color = \"b\")\n",
    "plt.xticks(a, match_bat.index, rotation = 90)\n",
    "plt.legend([\"bat\", \"field\"])\n",
    "plt.show()"
   ]
  },
  {
   "cell_type": "code",
   "execution_count": null,
   "metadata": {},
   "outputs": [],
   "source": [
    "dismissal_series = deliveries[\"dismissal_kind\"].value_counts().sort_index()\n",
    "x = np.arange(len(dismissal_series))\n",
    "a,b = np.polyfit(x, dismissal_series.values, 1)\n",
    "plt.scatter(x,dismissal_series.values, 0.8, color = \"r\")\n",
    "plt.plot(x, a*x + b)\n",
    "plt.xticks(x, dismissal_series.index, rotation = 90, fontsize = 8 )\n",
    "plt.show()"
   ]
  },
  {
   "cell_type": "code",
   "execution_count": null,
   "metadata": {},
   "outputs": [],
   "source": [
    "# Q20\n",
    "batsman_runs = deliveries.groupby(\"batsman\")[\"total_runs\"].sum()\n",
    "batsman_runs = batsman_runs.sort_values(ascending=False).head(10)\n",
    "x = np.arange(len(batsman_runs))\n",
    "a,b = np.polyfit(x, batsman_runs.values, 1)\n",
    "plt.scatter(x, batsman_runs.values, 0.8, color = \"r\")\n",
    "plt.plot(x, a*x + b)\n",
    "plt.xticks(x, batsman_runs.index, rotation = 90)\n",
    "plt.show()"
   ]
  },
  {
   "cell_type": "code",
   "execution_count": null,
   "metadata": {},
   "outputs": [],
   "source": [
    "# Q21\n",
    "\n",
    "x = np.arange(10)\n",
    "top_10 = matches[\"player_of_match\"].value_counts().head(10)\n",
    "\n",
    "plt.bar(x, top_10.values, 0.8 ,color = \"red\")\n",
    "plt.xticks(x, top_10.index, rotation = 90)\n",
    "plt.show()"
   ]
  },
  {
   "cell_type": "code",
   "execution_count": null,
   "metadata": {},
   "outputs": [],
   "source": [
    "# Q22\n",
    "\n",
    "team_matches = pd.concat([matches[\"team1\"], matches[\"team2\"]])\n",
    "x = np.arange(len(set(team_matches)))\n",
    "\n",
    "plt.bar(x, team_matches.value_counts().sort_index().values, 0.8, color = \"r\")\n",
    "plt.xticks(x, team_matches.value_counts().sort_index().index, rotation = 90)\n",
    "plt.show()"
   ]
  },
  {
   "cell_type": "code",
   "execution_count": null,
   "metadata": {},
   "outputs": [],
   "source": [
    "# Q23\n",
    "\n",
    "matches_played = pd.concat([matches[\"team1\"], matches[\"team2\"]]).value_counts().sort_index()\n",
    "match_wins = matches[\"winner\"].value_counts().sort_index()\n",
    "match_win_rate = (match_wins.to_numpy() / matches_played.to_numpy())*100\n",
    "\n",
    "x = np.arange(len(pd.concat([matches[\"team1\"],matches[\"team2\"]]).unique()))\n",
    "w = 0.2\n",
    "\n",
    "plt.bar(x-w, matches_played, w, color = \"r\")\n",
    "plt.bar(x, match_wins, w, color = \"g\")\n",
    "plt.bar(x+w , match_win_rate, w, color = \"b\")\n",
    "plt.xticks(x,matches_played.index, rotation = 90)\n",
    "plt.legend([\"matches played\", \"matches won\", \"match win rate\"])\n",
    "plt.show()"
   ]
  },
  {
   "cell_type": "code",
   "execution_count": null,
   "metadata": {},
   "outputs": [],
   "source": [
    "# Q24\n",
    "\n",
    "x = np.arange(len(set(matches[\"team1\"])))\n",
    "\n",
    "plt.bar(x, match_wins, 0.8, color = \"b\")\n",
    "plt.xticks(x, match_wins.index, rotation = 90)\n",
    "plt.show()"
   ]
  },
  {
   "cell_type": "code",
   "execution_count": null,
   "metadata": {},
   "outputs": [],
   "source": [
    "# Q25\n",
    "\n",
    "plt.bar(x, match_win_rate/100, 0.8, color = \"blue\")\n",
    "plt.xticks(x, match_wins.index, rotation = 90)\n",
    "plt.show()\n"
   ]
  },
  {
   "cell_type": "code",
   "execution_count": null,
   "metadata": {},
   "outputs": [],
   "source": [
    "# Q26\n",
    "\n",
    "toss_decisions = matches.groupby(\"toss_winner\")[\"toss_decision\"].value_counts().sort_index()\n",
    "x = np.arange(len(set(pd.concat([matches[\"team1\"],matches[\"team2\"]]))))\n",
    "w = 0.4\n",
    "\n",
    "plt.bar(x-(w/2), toss_decisions.values[::2], w, color = 'r')\n",
    "plt.bar(x+(w/2), toss_decisions.values[1::2], w, color = \"b\")\n",
    "plt.xticks(x, sorted(set(matches[\"toss_winner\"])), rotation = 90)\n",
    "plt.legend([\"bat\",\"field\"])\n",
    "plt.show()\n",
    "\n"
   ]
  }
 ],
 "metadata": {
  "kernelspec": {
   "display_name": "Python 3",
   "language": "python",
   "name": "python3"
  },
  "language_info": {
   "name": "python",
   "version": "3.12.0"
  },
  "orig_nbformat": 4
 },
 "nbformat": 4,
 "nbformat_minor": 2
}
